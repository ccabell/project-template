{
 "cells": [
  {
   "cell_type": "markdown",
   "id": "dd141c1b-84a0-4958-b981-2115860ab174",
   "metadata": {},
   "source": [
    "# SOAP Note Prompt Evaluation\n",
    "This notebook demonstrates how to iteratively run prompt evaluations and log the results to the Sagemaker-managed MLflow tracking server.\n",
    "\n",
    "For the examples on how to prepare the evaluation data see `01-Data Pre-Processing.ipynb`\n",
    "\n",
    "For the annotated example on how to use different utility functions and run evaluation jobs see `02-LLM-Judge-Evaluation.ipynb`"
   ]
  },
  {
   "cell_type": "code",
   "execution_count": 1,
   "id": "da8216e3-257d-47ce-8147-35136ca54868",
   "metadata": {},
   "outputs": [
    {
     "name": "stderr",
     "output_type": "stream",
     "text": [
      "/home/sagemaker-user/.conda/envs/soap-notes/lib/python3.12/site-packages/pydantic/_internal/_fields.py:198: UserWarning: Field name \"json\" in \"MonitoringDatasetFormat\" shadows an attribute in parent \"Base\"\n",
      "  warnings.warn(\n"
     ]
    },
    {
     "name": "stdout",
     "output_type": "stream",
     "text": [
      "sagemaker.config INFO - Not applying SDK defaults from location: /etc/xdg/sagemaker/config.yaml\n",
      "sagemaker.config INFO - Not applying SDK defaults from location: /home/sagemaker-user/.config/sagemaker/config.yaml\n"
     ]
    }
   ],
   "source": [
    "import os\n",
    "\n",
    "import pandas as pd\n",
    "from IPython.display import display\n",
    "\n",
    "from utils.aws import (\n",
    "    SAGEMAKER_DEFAULT_BUCKET,\n",
    "    bedrock_runtime_client,\n",
    "    sagemaker_session,\n",
    ")\n",
    "from utils.bedrock import BedrockModel\n",
    "from utils.evaluation import evaluate_prompt\n",
    "from utils.metrics import input_tokens_count, output_tokens_count,latency\n",
    "from utils.metrics.soap_note import completeness, source_grounding\n",
    "from utils.prompts.soap_note import format_soap_note\n",
    "from utils._mlflow import set_experiment, set_sagemaker_tracking_server\n",
    "\n",
    "\n",
    "DATA_DIR = \"dataset\"\n",
    "\n",
    "set_sagemaker_tracking_server(\"a360-mlflow-tracking-server\")\n",
    "mlflow_experiment_name = \"SOAP Note Prompt Evaluation\"\n",
    "mlflow_experiment_tags = {\n",
    "    \"task\": \"prompt-engineering\",\n",
    "    \"project\": \"soap-note-generation\",\n",
    "    \"mlflow.note.content\": \"This experiment evaluates different prompt versions for the SOAP note generation\",\n",
    "}\n",
    "experiment = set_experiment(mlflow_experiment_name, mlflow_experiment_tags)"
   ]
  },
  {
   "cell_type": "markdown",
   "id": "3fdd579b-2660-4ae6-8939-d661e1fac1df",
   "metadata": {},
   "source": [
    "## Prompt Definition"
   ]
  },
  {
   "cell_type": "code",
   "execution_count": 2,
   "id": "de0c91bd-e7d1-4c70-a28d-686604f37bff",
   "metadata": {},
   "outputs": [],
   "source": [
    "PROMPT_VERSION = 3\n",
    "SOAP_NOTE_GENERATION_PROMPT = \"\"\"\\\n",
    "You are an expert medical professional tasked with creating a SOAP note based on a transcript of a conversation between a doctor and a patient. A SOAP note is a method of documentation used by healthcare providers that includes four sections: Subjective, Objective, Assessment, and Plan.\n",
    "\n",
    "You will receive a complete transcript of a doctor-patient conversation.\n",
    "You must return a detailed SOAP note in JSON format.\n",
    "\n",
    "<example>\n",
    "\n",
    "<input>\n",
    "\n",
    "<transcript>\n",
    "Good morning, Mrs. Thompson. I'm Doctor. Martinez. Thank you for coming in today. Thank you for seeing me. I understand you're concerned about skin elasticity changes during your pregnancy. Could you tell me more about your current skin care routine? I'm using organic pregnancy safe products that my OB approves. Just basic cleansing and moisturizing. And you mentioned experiencing melasma during your previous pregnancy. Yes, it developed in my second trimester and took several months to fade after delivery. Are you noticing any melasma this pregnancy? Not yet, but I'm being very careful with sun protection. Would you mind if I examined your skin? Not at all. I'm noting mild melasma around the upper cheeks and mild loss of elasticity, which is normal during pregnancy. Your skin hydration appears good. Have you had any skin treatments before? I had a facial about six months ago before getting pregnant. No adverse effects. During pregnancy, we need to be very conservative with treatments. Many common aesthetic procedures aren't recommended until after delivery. However, we can focus on supporting your skin health with appropriate pregnancy safe products and treatments. What would you recommend? I'd suggest a pregnancy safe facial that includes gentle cleansing, hydration, and manual lymphatic drainage to help with any swelling. We can also review your current products and suggest any beneficial additions that are pregnancy safe. And these are definitely safe during pregnancy? Yes. We coordinate with OBGYNs regularly and maintain a strict list of pregnancy safe treatments and products. Would you like me to review these specific ingredients with you? Our pregnancy safe product line includes hyaluronic acid for hydration, vitamin C for antioxidant protection, and niacinamide for skin barrier support. We avoid retinoids, salicylic acid, and other ingredients contraindicated in pregnancy. What about the facial treatment itself? The facial takes about fifty minutes. We use gentle pressure and pregnancy safe positions. Cost is 150 per session, and we recommend monthly treatments during pregnancy to maintain skin health. How soon would I see results? You'll notice immediate improvement in hydration and glow. For elasticity, the benefits are cumulative with regular treatments. The main goal is to support your skin through the pregnancy and minimize any negative changes. And what about after pregnancy? We can schedule consultation about three months postpartum to reassess your skin and discuss additional treatment options that aren't safe during pregnancy. That makes sense. Would you recommend starting the facial now? Yes. Monthly facials for your remaining pregnancy would be beneficial. We can also add LED light therapy, which is safe during pregnancy and helps with skin health. I'd like to try that. When could I start? We could schedule your first treatment for next week. I'll also provide a list of recommended products for you to review with your OB. Would you like to schedule the treatment now? Yes, that would be great. I'll have our coordinator come in to arrange the appointment and review pricing options with you. Do you have any other questions for me? No, I think you've covered everything. I'll see you next week for your first treatment, Mrs. Thompson.\n",
    "</transcript>\n",
    "\n",
    "</input>\n",
    "\n",
    "<output>\n",
    "\n",
    "<soap_note>\n",
    "{{\n",
    "  \"subjective\": \"Mrs. Thompson is concerned about changes in skin elasticity during her pregnancy and reports using organic, pregnancy‑safe cleansing and moisturizing products approved by her OB. She has a history of melasma in her second trimester of her previous pregnancy, which resolved over several months postpartum. She is not currently noticing new melasma but is diligent about sun protection. She had one facial six months ago (pre‑pregnancy) without adverse effects.\",\n",
    "  \"objective\": \"On exam, there is mild melasma on the upper cheeks, mild loss of skin elasticity (consistent with normal pregnancy changes), and good overall skin hydration. No adverse signs or contraindications observed.\",\n",
    "  \"assessment\": \"1. Pregnancy‑associated melasma – mild and currently stable.\\\\n2. Mild skin elasticity reduction – physiologic change.\\\\n3. Overall skin health is good with adequate hydration.\",\n",
    "  \"plan\": \"1. Schedule monthly pregnancy‑safe facials incorporating gentle cleansing, targeted hydration, and manual lymphatic drainage.\\\\n2. Add LED light therapy for enhanced skin support (safe in pregnancy).\\\\n3. Review and optimize home regimen: continue organic products; emphasize hyaluronic acid (hydration), vitamin C (antioxidant), and niacinamide (barrier support); avoid retinoids, salicylic acid, and other contraindicated ingredients.\\\\n4. Provide patient with a printed list of recommended products/ingredients to review with her OB.\\\\n5. First treatment scheduled next week; coordinator to confirm appointment and pricing details.\\\\n6. Postpartum follow‑up visit at three months after delivery to reassess skin and consider treatments contraindicated during pregnancy.\"\n",
    "}}\n",
    "</soap_note>\n",
    "\n",
    "</output>\n",
    "\n",
    "</example>\n",
    "\n",
    "Instructions:\n",
    "1. Carefully analyze the following transcript of a conversation between a doctor and a patient:\n",
    "\n",
    "<transcript>\n",
    "{transcript}\n",
    "</transcript>\n",
    "\n",
    "2. Now, extract all the relevant information for each section of the SOAP note. Follow these guidelines for each section:\n",
    "    a. Subjective: Include the patient's chief complaint, history of present illness, and any relevant past medical history, family history, or social history mentioned by the patient.\n",
    "    b. Objective: Note any physical examination findings, vital signs, or test results mentioned by the doctor.\n",
    "    c. Assessment: Summarize the doctor's diagnosis or differential diagnoses based on the subjective and objective information. Include any medical reasoning or thought process expressed by the doctor.\n",
    "    d. Plan: List any treatment plans, medications prescribed, further tests ordered, referrals made, or follow-up instructions given by the doctor.\n",
    "\n",
    "3. Provide your output as a JSON object with four keys: \"subjective\", \"objective\", \"assessment\", and \"plan\". Each key should contain a string value with the relevant information for that section.\"\"\"\n",
    "ASSISTANT_RESPONSE_PREFILL = \"\"\"\\\n",
    "{\n",
    "    \"subjective\": \\\"\"\"\""
   ]
  },
  {
   "cell_type": "markdown",
   "id": "4a79399c-b2d1-4ee3-ae7c-ee20243e4ff2",
   "metadata": {},
   "source": [
    "## Data Preparation"
   ]
  },
  {
   "cell_type": "code",
   "execution_count": 3,
   "id": "030b42f6-d0f8-4b8c-a339-e02e0ca71c7e",
   "metadata": {},
   "outputs": [
    {
     "data": {
      "text/html": [
       "<div>\n",
       "<style scoped>\n",
       "    .dataframe tbody tr th:only-of-type {\n",
       "        vertical-align: middle;\n",
       "    }\n",
       "\n",
       "    .dataframe tbody tr th {\n",
       "        vertical-align: top;\n",
       "    }\n",
       "\n",
       "    .dataframe thead th {\n",
       "        text-align: right;\n",
       "    }\n",
       "</style>\n",
       "<table border=\"1\" class=\"dataframe\">\n",
       "  <thead>\n",
       "    <tr style=\"text-align: right;\">\n",
       "      <th></th>\n",
       "      <th>transcript</th>\n",
       "    </tr>\n",
       "  </thead>\n",
       "  <tbody>\n",
       "    <tr>\n",
       "      <th>0</th>\n",
       "      <td>Hi, Ava. I'm Doctor. Bennett. It's great to me...</td>\n",
       "    </tr>\n",
       "    <tr>\n",
       "      <th>1</th>\n",
       "      <td>Good morning. I'm Doctor. Chen. You must be Da...</td>\n",
       "    </tr>\n",
       "    <tr>\n",
       "      <th>2</th>\n",
       "      <td>Good morning, Ms. Cooper. I'm Doctor. Bennett....</td>\n",
       "    </tr>\n",
       "    <tr>\n",
       "      <th>3</th>\n",
       "      <td>Hello, Jasmine. How have you been? Look, doc. ...</td>\n",
       "    </tr>\n",
       "    <tr>\n",
       "      <th>4</th>\n",
       "      <td>Hello, I'm Doctor. Patterson. You must be Jenn...</td>\n",
       "    </tr>\n",
       "    <tr>\n",
       "      <th>5</th>\n",
       "      <td>Good morning. I'm Doctor. Chin. You must be Ka...</td>\n",
       "    </tr>\n",
       "    <tr>\n",
       "      <th>6</th>\n",
       "      <td>Hello Mia, I'm Doctor. Harrison. Please come i...</td>\n",
       "    </tr>\n",
       "    <tr>\n",
       "      <th>7</th>\n",
       "      <td>Good morning, Mrs. Parker. I'm Doctor. Roberts...</td>\n",
       "    </tr>\n",
       "    <tr>\n",
       "      <th>8</th>\n",
       "      <td>Morning Ms. Davis, I'm Doctor. Warren. What br...</td>\n",
       "    </tr>\n",
       "    <tr>\n",
       "      <th>9</th>\n",
       "      <td>Good morning Ms. Wright. How are you today? Gr...</td>\n",
       "    </tr>\n",
       "    <tr>\n",
       "      <th>10</th>\n",
       "      <td>Hello, I'm Doctor. Bennett. You must be Patric...</td>\n",
       "    </tr>\n",
       "    <tr>\n",
       "      <th>11</th>\n",
       "      <td>Good morning I'm Doctor Adams you must be Robe...</td>\n",
       "    </tr>\n",
       "    <tr>\n",
       "      <th>12</th>\n",
       "      <td>Hello, I'm Doctor. Roberts. You must be Sarah?...</td>\n",
       "    </tr>\n",
       "    <tr>\n",
       "      <th>13</th>\n",
       "      <td>Good morning. You must be Sarah. I'm Doctor. E...</td>\n",
       "    </tr>\n",
       "    <tr>\n",
       "      <th>14</th>\n",
       "      <td>Good morning. I'm doctor. Chin. You must be So...</td>\n",
       "    </tr>\n",
       "    <tr>\n",
       "      <th>15</th>\n",
       "      <td>So sorry I'm late, Dr. Hendon. Traffic was ter...</td>\n",
       "    </tr>\n",
       "    <tr>\n",
       "      <th>16</th>\n",
       "      <td>Good afternoon! I'm Dr. Paul Ruff. It's a plea...</td>\n",
       "    </tr>\n",
       "    <tr>\n",
       "      <th>17</th>\n",
       "      <td>Good morning! I'm Dr. Johnson, it's a pleasure...</td>\n",
       "    </tr>\n",
       "    <tr>\n",
       "      <th>18</th>\n",
       "      <td>I am so, so sorry I'm late, Dr. Mason! The tra...</td>\n",
       "    </tr>\n",
       "  </tbody>\n",
       "</table>\n",
       "</div>"
      ],
      "text/plain": [
       "                                           transcript\n",
       "0   Hi, Ava. I'm Doctor. Bennett. It's great to me...\n",
       "1   Good morning. I'm Doctor. Chen. You must be Da...\n",
       "2   Good morning, Ms. Cooper. I'm Doctor. Bennett....\n",
       "3   Hello, Jasmine. How have you been? Look, doc. ...\n",
       "4   Hello, I'm Doctor. Patterson. You must be Jenn...\n",
       "5   Good morning. I'm Doctor. Chin. You must be Ka...\n",
       "6   Hello Mia, I'm Doctor. Harrison. Please come i...\n",
       "7   Good morning, Mrs. Parker. I'm Doctor. Roberts...\n",
       "8   Morning Ms. Davis, I'm Doctor. Warren. What br...\n",
       "9   Good morning Ms. Wright. How are you today? Gr...\n",
       "10  Hello, I'm Doctor. Bennett. You must be Patric...\n",
       "11  Good morning I'm Doctor Adams you must be Robe...\n",
       "12  Hello, I'm Doctor. Roberts. You must be Sarah?...\n",
       "13  Good morning. You must be Sarah. I'm Doctor. E...\n",
       "14  Good morning. I'm doctor. Chin. You must be So...\n",
       "15  So sorry I'm late, Dr. Hendon. Traffic was ter...\n",
       "16  Good afternoon! I'm Dr. Paul Ruff. It's a plea...\n",
       "17  Good morning! I'm Dr. Johnson, it's a pleasure...\n",
       "18  I am so, so sorry I'm late, Dr. Mason! The tra..."
      ]
     },
     "execution_count": 3,
     "metadata": {},
     "output_type": "execute_result"
    }
   ],
   "source": [
    "# load evaluation data\n",
    "eval_data_path = os.path.join(DATA_DIR, \"transcripts-plain.csv\")\n",
    "if not os.path.isfile(eval_data_path):\n",
    "    sagemaker_session.download_data(\n",
    "        DATA_DIR,\n",
    "        SAGEMAKER_DEFAULT_BUCKET,\n",
    "        \"prompt-engineering/soap-notes/dataset/transcripts-plain.csv\",\n",
    "    )\n",
    "eval_df = pd.read_csv(eval_data_path)\n",
    "eval_df"
   ]
  },
  {
   "cell_type": "markdown",
   "id": "5442c82e-9c6b-4dd9-9c3c-b03eda4759e2",
   "metadata": {},
   "source": [
    "## Model Definition"
   ]
  },
  {
   "cell_type": "code",
   "execution_count": 4,
   "id": "ccac64ab-8576-44ba-b774-9c95d91276ce",
   "metadata": {},
   "outputs": [],
   "source": [
    "inference_config = {\"temperature\": 0.0}\n",
    "sonnet = BedrockModel(\n",
    "    \"us.anthropic.claude-3-7-sonnet-20250219-v1:0\",\n",
    "    bedrock_runtime_client,\n",
    "    inf_config=inference_config,\n",
    ")\n",
    "models = [sonnet]"
   ]
  },
  {
   "cell_type": "markdown",
   "id": "f6449001-d986-4f00-bbeb-a543006a51d9",
   "metadata": {},
   "source": [
    "## Metrics Definition"
   ]
  },
  {
   "cell_type": "code",
   "execution_count": 5,
   "id": "bf7ed551-1f8d-483d-9b94-c6c05bcd412b",
   "metadata": {},
   "outputs": [],
   "source": [
    "aggregations = [\"min\", \"max\", \"mean\", \"median\"]\n",
    "judge_metrics = [completeness(aggregations), source_grounding(aggregations)]\n",
    "operational_metrics = [\n",
    "    input_tokens_count(aggregations),\n",
    "    output_tokens_count(aggregations),\n",
    "    latency(aggregations),\n",
    "]"
   ]
  },
  {
   "cell_type": "markdown",
   "id": "82e6a5e4-3f76-4b1a-a8cc-abc52e96e6e5",
   "metadata": {},
   "source": [
    "## Evaluation"
   ]
  },
  {
   "cell_type": "code",
   "execution_count": 6,
   "id": "a421254e-1c54-419f-b64a-c035f110c9c4",
   "metadata": {},
   "outputs": [
    {
     "name": "stderr",
     "output_type": "stream",
     "text": [
      "2025/04/17 11:01:14 INFO mlflow.models.evaluation.utils.trace: Auto tracing is temporarily enabled during the model evaluation for computing some metrics and debugging. To disable tracing, call `mlflow.autolog(disable=True)`.\n",
      "2025/04/17 11:01:14 INFO mlflow.models.evaluation.evaluators.default: Computing model predictions.\n",
      "2025/04/17 11:05:03 INFO mlflow.models.evaluation.default_evaluator: Testing metrics on first row...\n"
     ]
    },
    {
     "name": "stdout",
     "output_type": "stream",
     "text": [
      "🏃 View run prompt-v3-claude-3.7-sonnet at: https://us-east-1.experiments.sagemaker.aws/#/experiments/35/runs/05fb2681de434071a4d88bbe237d6825\n",
      "🧪 View experiment at: https://us-east-1.experiments.sagemaker.aws/#/experiments/35\n"
     ]
    }
   ],
   "source": [
    "preds_col_name = \"soap_note\"\n",
    "eval_results = evaluate_prompt(\n",
    "    SOAP_NOTE_GENERATION_PROMPT,\n",
    "    models,\n",
    "    eval_df,\n",
    "    sonnet,\n",
    "    judge_metrics,\n",
    "    preds_col_name,\n",
    "    operational_metrics,\n",
    "    f\"prompt-v{PROMPT_VERSION}-\",\n",
    "    response_prefill=ASSISTANT_RESPONSE_PREFILL,\n",
    "    custom_cols={preds_col_name: format_soap_note},\n",
    ")"
   ]
  },
  {
   "cell_type": "code",
   "execution_count": 7,
   "id": "12187286-3e9d-47f5-9d63-b8cf9fea3a5a",
   "metadata": {},
   "outputs": [
    {
     "name": "stdout",
     "output_type": "stream",
     "text": [
      "Evaluation results for run prompt-v3-claude-3.7-sonnet:\n"
     ]
    },
    {
     "data": {
      "application/vnd.jupyter.widget-view+json": {
       "model_id": "f3f785e4fa6141debb1cd23564173c45",
       "version_major": 2,
       "version_minor": 0
      },
      "text/plain": [
       "Downloading artifacts:   0%|          | 0/1 [00:00<?, ?it/s]"
      ]
     },
     "metadata": {},
     "output_type": "display_data"
    },
    {
     "data": {
      "text/html": [
       "<div>\n",
       "<style scoped>\n",
       "    .dataframe tbody tr th:only-of-type {\n",
       "        vertical-align: middle;\n",
       "    }\n",
       "\n",
       "    .dataframe tbody tr th {\n",
       "        vertical-align: top;\n",
       "    }\n",
       "\n",
       "    .dataframe thead th {\n",
       "        text-align: right;\n",
       "    }\n",
       "</style>\n",
       "<table border=\"1\" class=\"dataframe\">\n",
       "  <thead>\n",
       "    <tr style=\"text-align: right;\">\n",
       "      <th></th>\n",
       "      <th>transcript</th>\n",
       "      <th>outputs</th>\n",
       "      <th>output_tokens</th>\n",
       "      <th>input_tokens</th>\n",
       "      <th>latency_ms</th>\n",
       "      <th>input_tokens_count/score</th>\n",
       "      <th>output_tokens_count/score</th>\n",
       "      <th>latencyMs/score</th>\n",
       "      <th>completeness/score</th>\n",
       "      <th>completeness/justification</th>\n",
       "      <th>source_grounding/score</th>\n",
       "      <th>source_grounding/justification</th>\n",
       "    </tr>\n",
       "  </thead>\n",
       "  <tbody>\n",
       "    <tr>\n",
       "      <th>0</th>\n",
       "      <td>Hi, Ava. I'm Doctor. Bennett. It's great to me...</td>\n",
       "      <td>Subjective: Ava presents with concerns about h...</td>\n",
       "      <td>419</td>\n",
       "      <td>2485</td>\n",
       "      <td>16281</td>\n",
       "      <td>2485</td>\n",
       "      <td>419</td>\n",
       "      <td>16281</td>\n",
       "      <td>5</td>\n",
       "      <td>## Subjective\\nThe subjective section is very ...</td>\n",
       "      <td>4</td>\n",
       "      <td>## Subjective\\nThe subjective section accurate...</td>\n",
       "    </tr>\n",
       "    <tr>\n",
       "      <th>1</th>\n",
       "      <td>Good morning. I'm Doctor. Chen. You must be Da...</td>\n",
       "      <td>Subjective: David is a Marine Corps enlistee s...</td>\n",
       "      <td>533</td>\n",
       "      <td>2552</td>\n",
       "      <td>12645</td>\n",
       "      <td>2552</td>\n",
       "      <td>533</td>\n",
       "      <td>12645</td>\n",
       "      <td>5</td>\n",
       "      <td>## Subjective\\nThe subjective section is very ...</td>\n",
       "      <td>5</td>\n",
       "      <td>## Subjective\\nThe subjective section accurate...</td>\n",
       "    </tr>\n",
       "    <tr>\n",
       "      <th>2</th>\n",
       "      <td>Good morning, Ms. Cooper. I'm Doctor. Bennett....</td>\n",
       "      <td>Subjective: Ms. Cooper presents with concerns ...</td>\n",
       "      <td>377</td>\n",
       "      <td>2063</td>\n",
       "      <td>8847</td>\n",
       "      <td>2063</td>\n",
       "      <td>377</td>\n",
       "      <td>8847</td>\n",
       "      <td>5</td>\n",
       "      <td>## Subjective\\nThe subjective section comprehe...</td>\n",
       "      <td>4</td>\n",
       "      <td>## Subjective\\nThe subjective section accurate...</td>\n",
       "    </tr>\n",
       "  </tbody>\n",
       "</table>\n",
       "</div>"
      ],
      "text/plain": [
       "                                          transcript  \\\n",
       "0  Hi, Ava. I'm Doctor. Bennett. It's great to me...   \n",
       "1  Good morning. I'm Doctor. Chen. You must be Da...   \n",
       "2  Good morning, Ms. Cooper. I'm Doctor. Bennett....   \n",
       "\n",
       "                                             outputs  output_tokens  \\\n",
       "0  Subjective: Ava presents with concerns about h...            419   \n",
       "1  Subjective: David is a Marine Corps enlistee s...            533   \n",
       "2  Subjective: Ms. Cooper presents with concerns ...            377   \n",
       "\n",
       "   input_tokens  latency_ms  input_tokens_count/score  \\\n",
       "0          2485       16281                      2485   \n",
       "1          2552       12645                      2552   \n",
       "2          2063        8847                      2063   \n",
       "\n",
       "   output_tokens_count/score  latencyMs/score  completeness/score  \\\n",
       "0                        419            16281                   5   \n",
       "1                        533            12645                   5   \n",
       "2                        377             8847                   5   \n",
       "\n",
       "                          completeness/justification  source_grounding/score  \\\n",
       "0  ## Subjective\\nThe subjective section is very ...                       4   \n",
       "1  ## Subjective\\nThe subjective section is very ...                       5   \n",
       "2  ## Subjective\\nThe subjective section comprehe...                       4   \n",
       "\n",
       "                      source_grounding/justification  \n",
       "0  ## Subjective\\nThe subjective section accurate...  \n",
       "1  ## Subjective\\nThe subjective section accurate...  \n",
       "2  ## Subjective\\nThe subjective section accurate...  "
      ]
     },
     "metadata": {},
     "output_type": "display_data"
    }
   ],
   "source": [
    "for run_name, result in eval_results.items():\n",
    "    print(f\"Evaluation results for run {run_name}:\")\n",
    "    display(result.tables[\"eval_results_table\"].head(3))"
   ]
  }
 ],
 "metadata": {
  "kernelspec": {
   "display_name": "user-env:(py312-soap-notes)",
   "language": "python",
   "name": "soap-notes"
  },
  "language_info": {
   "codemirror_mode": {
    "name": "ipython",
    "version": 3
   },
   "file_extension": ".py",
   "mimetype": "text/x-python",
   "name": "python",
   "nbconvert_exporter": "python",
   "pygments_lexer": "ipython3",
   "version": "3.12.9"
  }
 },
 "nbformat": 4,
 "nbformat_minor": 5
}
