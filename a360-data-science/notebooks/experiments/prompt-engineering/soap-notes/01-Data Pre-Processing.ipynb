{
 "cells": [
  {
   "cell_type": "markdown",
   "id": "fd35d7b1-8b24-4a77-a8a9-73b530f06ebb",
   "metadata": {},
   "source": [
    "# SOAP Note Data Pre-Processing\n",
    "\n",
    "This notebook demonstrates how to pre-process the raw transcripts data so it can be used for prompt evaluation"
   ]
  },
  {
   "cell_type": "code",
   "execution_count": 1,
   "id": "0da04cc6-9c8d-4211-ad1d-8f72eec29797",
   "metadata": {},
   "outputs": [
    {
     "name": "stderr",
     "output_type": "stream",
     "text": [
      "/home/sagemaker-user/.conda/envs/soap-notes/lib/python3.12/site-packages/pydantic/_internal/_fields.py:198: UserWarning: Field name \"json\" in \"MonitoringDatasetFormat\" shadows an attribute in parent \"Base\"\n",
      "  warnings.warn(\n"
     ]
    },
    {
     "name": "stdout",
     "output_type": "stream",
     "text": [
      "sagemaker.config INFO - Not applying SDK defaults from location: /etc/xdg/sagemaker/config.yaml\n",
      "sagemaker.config INFO - Not applying SDK defaults from location: /home/sagemaker-user/.config/sagemaker/config.yaml\n"
     ]
    }
   ],
   "source": [
    "import os\n",
    "\n",
    "from utils.aws import SAGEMAKER_DEFAULT_BUCKET, sagemaker_session\n",
    "from utils.data.soap_note import process_transcripts, process_transcript_plain\n",
    "\n",
    "\n",
    "DATA_DIR = \"dataset\"\n",
    "RAW_DATA_DIR = os.path.join(DATA_DIR, \"raw/\")"
   ]
  },
  {
   "cell_type": "markdown",
   "id": "c7fae4a8-3a55-4a5c-bfcd-9ba7a5baeae0",
   "metadata": {},
   "source": [
    "The raw transcripts data is organized as a set of folders, each containing a `transcript.json` file that follows the Deepgram schema. Each folder also contains either a `.m4a` audio file from which the transcript was generated or a `script.txt` file with the LLM-generated transcript."
   ]
  },
  {
   "cell_type": "code",
   "execution_count": 2,
   "id": "5a2a2e99-357b-4794-8f1b-64cc28954ee8",
   "metadata": {},
   "outputs": [],
   "source": [
    "# download raw data\n",
    "if not os.path.isdir(RAW_DATA_DIR):\n",
    "    sagemaker_session.download_data(\n",
    "        RAW_DATA_DIR,\n",
    "        SAGEMAKER_DEFAULT_BUCKET,\n",
    "        \"prompt-engineering/soap-notes/dataset/raw\"\n",
    "    )"
   ]
  },
  {
   "cell_type": "markdown",
   "id": "c7a07521-5314-4e35-a5b6-e47f28373772",
   "metadata": {},
   "source": [
    "To use this data for prompt evaluation, we need to create a pandas `DataFrame` where each row contains all the necessary data for a single model invocation. In this case, we only need a transcript to generate the SOAP note."
   ]
  },
  {
   "cell_type": "code",
   "execution_count": 3,
   "id": "dd50b77e-fdf8-4226-a889-3bea4f2f5972",
   "metadata": {},
   "outputs": [
    {
     "data": {
      "text/html": [
       "<div>\n",
       "<style scoped>\n",
       "    .dataframe tbody tr th:only-of-type {\n",
       "        vertical-align: middle;\n",
       "    }\n",
       "\n",
       "    .dataframe tbody tr th {\n",
       "        vertical-align: top;\n",
       "    }\n",
       "\n",
       "    .dataframe thead th {\n",
       "        text-align: right;\n",
       "    }\n",
       "</style>\n",
       "<table border=\"1\" class=\"dataframe\">\n",
       "  <thead>\n",
       "    <tr style=\"text-align: right;\">\n",
       "      <th></th>\n",
       "      <th>transcript</th>\n",
       "    </tr>\n",
       "  </thead>\n",
       "  <tbody>\n",
       "    <tr>\n",
       "      <th>0</th>\n",
       "      <td>Hi, Ava. I'm Doctor. Bennett. It's great to me...</td>\n",
       "    </tr>\n",
       "    <tr>\n",
       "      <th>1</th>\n",
       "      <td>Good morning. I'm Doctor. Chen. You must be Da...</td>\n",
       "    </tr>\n",
       "    <tr>\n",
       "      <th>2</th>\n",
       "      <td>Good morning, Ms. Cooper. I'm Doctor. Bennett....</td>\n",
       "    </tr>\n",
       "    <tr>\n",
       "      <th>3</th>\n",
       "      <td>Hello, Jasmine. How have you been? Look, doc. ...</td>\n",
       "    </tr>\n",
       "    <tr>\n",
       "      <th>4</th>\n",
       "      <td>Hello, I'm Doctor. Patterson. You must be Jenn...</td>\n",
       "    </tr>\n",
       "    <tr>\n",
       "      <th>5</th>\n",
       "      <td>Good morning. I'm Doctor. Chin. You must be Ka...</td>\n",
       "    </tr>\n",
       "    <tr>\n",
       "      <th>6</th>\n",
       "      <td>Hello Mia, I'm Doctor. Harrison. Please come i...</td>\n",
       "    </tr>\n",
       "    <tr>\n",
       "      <th>7</th>\n",
       "      <td>Good morning, Mrs. Parker. I'm Doctor. Roberts...</td>\n",
       "    </tr>\n",
       "    <tr>\n",
       "      <th>8</th>\n",
       "      <td>Morning Ms. Davis, I'm Doctor. Warren. What br...</td>\n",
       "    </tr>\n",
       "    <tr>\n",
       "      <th>9</th>\n",
       "      <td>Good morning Ms. Wright. How are you today? Gr...</td>\n",
       "    </tr>\n",
       "    <tr>\n",
       "      <th>10</th>\n",
       "      <td>Hello, I'm Doctor. Bennett. You must be Patric...</td>\n",
       "    </tr>\n",
       "    <tr>\n",
       "      <th>11</th>\n",
       "      <td>Good morning I'm Doctor Adams you must be Robe...</td>\n",
       "    </tr>\n",
       "    <tr>\n",
       "      <th>12</th>\n",
       "      <td>Hello, I'm Doctor. Roberts. You must be Sarah?...</td>\n",
       "    </tr>\n",
       "    <tr>\n",
       "      <th>13</th>\n",
       "      <td>Good morning. You must be Sarah. I'm Doctor. E...</td>\n",
       "    </tr>\n",
       "    <tr>\n",
       "      <th>14</th>\n",
       "      <td>Good morning. I'm doctor. Chin. You must be So...</td>\n",
       "    </tr>\n",
       "    <tr>\n",
       "      <th>15</th>\n",
       "      <td>So sorry I'm late, Dr. Hendon. Traffic was ter...</td>\n",
       "    </tr>\n",
       "    <tr>\n",
       "      <th>16</th>\n",
       "      <td>Good afternoon! I'm Dr. Paul Ruff. It's a plea...</td>\n",
       "    </tr>\n",
       "    <tr>\n",
       "      <th>17</th>\n",
       "      <td>Good morning! I'm Dr. Johnson, it's a pleasure...</td>\n",
       "    </tr>\n",
       "    <tr>\n",
       "      <th>18</th>\n",
       "      <td>I am so, so sorry I'm late, Dr. Mason! The tra...</td>\n",
       "    </tr>\n",
       "  </tbody>\n",
       "</table>\n",
       "</div>"
      ],
      "text/plain": [
       "                                           transcript\n",
       "0   Hi, Ava. I'm Doctor. Bennett. It's great to me...\n",
       "1   Good morning. I'm Doctor. Chen. You must be Da...\n",
       "2   Good morning, Ms. Cooper. I'm Doctor. Bennett....\n",
       "3   Hello, Jasmine. How have you been? Look, doc. ...\n",
       "4   Hello, I'm Doctor. Patterson. You must be Jenn...\n",
       "5   Good morning. I'm Doctor. Chin. You must be Ka...\n",
       "6   Hello Mia, I'm Doctor. Harrison. Please come i...\n",
       "7   Good morning, Mrs. Parker. I'm Doctor. Roberts...\n",
       "8   Morning Ms. Davis, I'm Doctor. Warren. What br...\n",
       "9   Good morning Ms. Wright. How are you today? Gr...\n",
       "10  Hello, I'm Doctor. Bennett. You must be Patric...\n",
       "11  Good morning I'm Doctor Adams you must be Robe...\n",
       "12  Hello, I'm Doctor. Roberts. You must be Sarah?...\n",
       "13  Good morning. You must be Sarah. I'm Doctor. E...\n",
       "14  Good morning. I'm doctor. Chin. You must be So...\n",
       "15  So sorry I'm late, Dr. Hendon. Traffic was ter...\n",
       "16  Good afternoon! I'm Dr. Paul Ruff. It's a plea...\n",
       "17  Good morning! I'm Dr. Johnson, it's a pleasure...\n",
       "18  I am so, so sorry I'm late, Dr. Mason! The tra..."
      ]
     },
     "execution_count": 3,
     "metadata": {},
     "output_type": "execute_result"
    }
   ],
   "source": [
    "df = process_transcripts(RAW_DATA_DIR, process_transcript_plain)\n",
    "df"
   ]
  },
  {
   "cell_type": "markdown",
   "id": "415d55d6-aed9-447e-ba97-63cad072886b",
   "metadata": {},
   "source": [
    "After the data is transformed, we can upload it back to S3"
   ]
  },
  {
   "cell_type": "code",
   "execution_count": 4,
   "id": "86da4a28-5932-48eb-9bf0-2bd2d6f95a0a",
   "metadata": {},
   "outputs": [],
   "source": [
    "transcripts_plain_path = os.path.join(DATA_DIR, \"transcripts-plain.csv\")\n",
    "df.to_csv(transcripts_plain_path, index=False)\n",
    "transcripts_plain_s3_uri = sagemaker_session.upload_data(\n",
    "    transcripts_plain_path,\n",
    "    SAGEMAKER_DEFAULT_BUCKET,\n",
    "    \"prompt-engineering/soap-notes/dataset\",\n",
    ")"
   ]
  }
 ],
 "metadata": {
  "kernelspec": {
   "display_name": "user-env:(py312-soap-notes)",
   "language": "python",
   "name": "soap-notes"
  },
  "language_info": {
   "codemirror_mode": {
    "name": "ipython",
    "version": 3
   },
   "file_extension": ".py",
   "mimetype": "text/x-python",
   "name": "python",
   "nbconvert_exporter": "python",
   "pygments_lexer": "ipython3",
   "version": "3.12.9"
  }
 },
 "nbformat": 4,
 "nbformat_minor": 5
}
