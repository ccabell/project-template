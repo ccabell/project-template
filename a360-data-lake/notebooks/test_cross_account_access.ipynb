{
 "cells": [
  {
   "cell_type": "markdown",
   "metadata": {},
   "source": [
    "# Cross-Account S3 Access Test\n",
    "\n",
    "This notebook demonstrates how to create a sample CSV, upload it to an S3 bucket using a specific AWS profile, preview the CSV using cross-account access, and clean up the test data. All utilities used are from the `utils` folder."
   ]
  },
  {
   "cell_type": "markdown",
   "metadata": {},
   "source": [
    "## 1. Create and Save Sample CSV Locally\n",
    "We use pandas to create a sample CSV and save it to the `utils/data/` directory."
   ]
  },
  {
   "cell_type": "code",
   "execution_count": 32,
   "metadata": {},
   "outputs": [
    {
     "name": "stdout",
     "output_type": "stream",
     "text": [
      "Sample CSV saved to utils\\data\\cross_account_sample.csv\n"
     ]
    }
   ],
   "source": [
    "import os\n",
    "\n",
    "import pandas as pd\n",
    "\n",
    "# Create a sample DataFrame\n",
    "df_sample = pd.DataFrame(\n",
    "    {\n",
    "        \"id\": range(1, 6),\n",
    "        \"name\": [\"Alice\", \"Bob\", \"Charlie\", \"Diana\", \"Eve\"],\n",
    "        \"amount\": [100.5, 200.0, 150.75, 300.2, 50.0],\n",
    "    },\n",
    ")\n",
    "\n",
    "# Save to local file in the utils/data directory\n",
    "local_dir = os.path.join(\"utils\", \"data\")\n",
    "os.makedirs(local_dir, exist_ok=True)\n",
    "local_csv_path = os.path.join(local_dir, \"cross_account_sample.csv\")\n",
    "df_sample.to_csv(local_csv_path, index=False)"
   ]
  },
  {
   "cell_type": "markdown",
   "metadata": {},
   "source": [
    "## 2. Upload the CSV sample file into the Source S3 Bucket.\n",
    "We use the `upload_to_s3` function from `s3_sample_data_uploader.py` to upload the sample CSV file into the source bucket using the source profile."
   ]
  },
  {
   "cell_type": "code",
   "execution_count": null,
   "metadata": {},
   "outputs": [],
   "source": [
    "# Load configuration from environment variables\n",
    "from dotenv import load_dotenv\n",
    "\n",
    "# Load environment variables from .env file\n",
    "load_dotenv(dotenv_path=\"../.env\")\n",
    "\n",
    "SOURCE_BUCKET = os.getenv(\n",
    "    \"SOURCE_BUCKET\",\n",
    ")  # a360-datalake-raw-bucket-277707121008-us-east-1\n",
    "SOURCE_PROFILE = os.getenv(\"AWS_PROFILE\")  # DataLake-Dev\n",
    "TARGET_PROFILE = os.getenv(\"TARGET_PROFILE\")  # GenAI-Platform-Dev\n",
    "ASSUME_ROLE_ARN = os.getenv(\n",
    "    \"ASSUME_ROLE_ARN\",\n",
    ")  # arn:aws:iam::590183989543:role/A360-SageMaker-Studio-DomainDefaultRole"
   ]
  },
  {
   "cell_type": "code",
   "execution_count": null,
   "metadata": {},
   "outputs": [
    {
     "name": "stdout",
     "output_type": "stream",
     "text": [
      "a360-datalake-raw-bucket-277707121008-us-east-1\n",
      "cross_account_test_sample_data\n",
      "DataLake-Dev\n"
     ]
    },
    {
     "name": "stderr",
     "output_type": "stream",
     "text": [
      "2025-06-26 01:26:13,606 - botocore.tokens - INFO - Loading cached SSO token for a360-sso\n",
      "2025-06-26 01:26:14,727 - botocore.tokens - INFO - SSO Token refresh succeeded\n"
     ]
    },
    {
     "name": "stdout",
     "output_type": "stream",
     "text": [
      "Uploaded files: ['cross_account_test_sample_data\\\\cross_account_sample.csv']\n"
     ]
    }
   ],
   "source": [
    "import os\n",
    "import sys\n",
    "\n",
    "project_root = os.path.abspath(os.path.join(os.getcwd(), \"..\"))\n",
    "if project_root not in sys.path:\n",
    "    sys.path.append(project_root)\n",
    "\n",
    "from utils.s3_sample_data_uploader import upload_to_s3\n",
    "\n",
    "SAMPLE_PREFIX = \"cross_account_test_sample_data\"\n",
    "SOURCE_BUCKET = os.getenv(\"SOURCE_BUCKET\")\n",
    "SOURCE_PROFILE = os.getenv(\"AWS_PROFILE\")\n",
    "\n",
    "# Upload the CSV file to S3 using the upload_to_s3 function\n",
    "uploaded_files = upload_to_s3(\n",
    "    local_directory=local_dir,\n",
    "    bucket_name=SOURCE_BUCKET,\n",
    "    prefix=SAMPLE_PREFIX,\n",
    "    profile=SOURCE_PROFILE,\n",
    ")"
   ]
  },
  {
   "cell_type": "markdown",
   "metadata": {},
   "source": [
    "## 3. List and Preview the CSV with Target Profile\n",
    "We use `list_csv_keys` and `preview_csv` from `s3_csv_preview.py` to list and preview the uploaded CSV in the source S3 using the target profile."
   ]
  },
  {
   "cell_type": "code",
   "execution_count": 37,
   "metadata": {},
   "outputs": [
    {
     "name": "stderr",
     "output_type": "stream",
     "text": [
      "2025-06-26 01:27:00,665 - botocore.tokens - INFO - Loading cached SSO token for a360-sso\n"
     ]
    },
    {
     "name": "stdout",
     "output_type": "stream",
     "text": [
      "arn:aws:iam::590183989543:role/A360-SageMaker-Studio-DomainDefaultRole\n",
      "GenAI-Platform-Dev\n"
     ]
    },
    {
     "name": "stderr",
     "output_type": "stream",
     "text": [
      "2025-06-26 01:27:03,447 - botocore.tokens - INFO - Loading cached SSO token for a360-sso\n"
     ]
    },
    {
     "name": "stdout",
     "output_type": "stream",
     "text": [
      "CSV files found in S3: ['cross_account_test_sample_data\\\\cross_account_sample.csv']\n",
      "Preview metadata: {'size_bytes': 89, 'last_modified': datetime.datetime(2025, 6, 26, 6, 26, 19, tzinfo=tzutc()), 'content_type': 'binary/octet-stream'}\n"
     ]
    },
    {
     "data": {
      "text/html": [
       "<div>\n",
       "<style scoped>\n",
       "    .dataframe tbody tr th:only-of-type {\n",
       "        vertical-align: middle;\n",
       "    }\n",
       "\n",
       "    .dataframe tbody tr th {\n",
       "        vertical-align: top;\n",
       "    }\n",
       "\n",
       "    .dataframe thead th {\n",
       "        text-align: right;\n",
       "    }\n",
       "</style>\n",
       "<table border=\"1\" class=\"dataframe\">\n",
       "  <thead>\n",
       "    <tr style=\"text-align: right;\">\n",
       "      <th></th>\n",
       "      <th>id</th>\n",
       "      <th>name</th>\n",
       "      <th>amount</th>\n",
       "    </tr>\n",
       "  </thead>\n",
       "  <tbody>\n",
       "    <tr>\n",
       "      <th>0</th>\n",
       "      <td>1</td>\n",
       "      <td>Alice</td>\n",
       "      <td>100.50</td>\n",
       "    </tr>\n",
       "    <tr>\n",
       "      <th>1</th>\n",
       "      <td>2</td>\n",
       "      <td>Bob</td>\n",
       "      <td>200.00</td>\n",
       "    </tr>\n",
       "    <tr>\n",
       "      <th>2</th>\n",
       "      <td>3</td>\n",
       "      <td>Charlie</td>\n",
       "      <td>150.75</td>\n",
       "    </tr>\n",
       "    <tr>\n",
       "      <th>3</th>\n",
       "      <td>4</td>\n",
       "      <td>Diana</td>\n",
       "      <td>300.20</td>\n",
       "    </tr>\n",
       "    <tr>\n",
       "      <th>4</th>\n",
       "      <td>5</td>\n",
       "      <td>Eve</td>\n",
       "      <td>50.00</td>\n",
       "    </tr>\n",
       "  </tbody>\n",
       "</table>\n",
       "</div>"
      ],
      "text/plain": [
       "   id     name  amount\n",
       "0   1    Alice  100.50\n",
       "1   2      Bob  200.00\n",
       "2   3  Charlie  150.75\n",
       "3   4    Diana  300.20\n",
       "4   5      Eve   50.00"
      ]
     },
     "metadata": {},
     "output_type": "display_data"
    }
   ],
   "source": [
    "import os\n",
    "import sys\n",
    "\n",
    "project_root = os.path.abspath(os.path.join(os.getcwd(), \"..\"))\n",
    "if project_root not in sys.path:\n",
    "    sys.path.append(project_root)\n",
    "\n",
    "from utils.s3_csv_preview import list_csv_keys, preview_csv\n",
    "\n",
    "# List CSV files in the uploaded prefix\n",
    "csv_files = list_csv_keys(SOURCE_BUCKET, SAMPLE_PREFIX, TARGET_PROFILE, ASSUME_ROLE_ARN)\n",
    "\n",
    "# Preview the uploaded CSV using the utility\n",
    "if csv_files:\n",
    "    df_preview, metadata = preview_csv(\n",
    "        SOURCE_BUCKET,\n",
    "        csv_files[0],\n",
    "        nrows=5,\n",
    "        profile=TARGET_PROFILE,\n",
    "        assume_role_arn=ASSUME_ROLE_ARN,\n",
    "    )\n",
    "    display(df_preview)\n",
    "else:\n",
    "    pass"
   ]
  },
  {
   "cell_type": "markdown",
   "metadata": {},
   "source": [
    "## 4. Clean Up: Delete the Sample CSV from S3\n",
    "We delete the uploaded sample CSV from S3 using the target profile."
   ]
  },
  {
   "cell_type": "code",
   "execution_count": 38,
   "metadata": {},
   "outputs": [
    {
     "name": "stderr",
     "output_type": "stream",
     "text": [
      "2025-06-26 01:27:38,071 - botocore.tokens - INFO - Loading cached SSO token for a360-sso\n"
     ]
    },
    {
     "name": "stdout",
     "output_type": "stream",
     "text": [
      "Sample data deleted from source bucket.\n"
     ]
    }
   ],
   "source": [
    "import boto3\n",
    "\n",
    "session = boto3.Session(profile_name=SOURCE_PROFILE)\n",
    "s3 = session.client(\"s3\")\n",
    "for key in csv_files:\n",
    "    s3.delete_object(Bucket=SOURCE_BUCKET, Key=key)"
   ]
  }
 ],
 "metadata": {
  "kernelspec": {
   "display_name": "Python 3",
   "language": "python",
   "name": "python3"
  },
  "language_info": {
   "codemirror_mode": {
    "name": "ipython",
    "version": 3
   },
   "file_extension": ".py",
   "mimetype": "text/x-python",
   "name": "python",
   "nbconvert_exporter": "python",
   "pygments_lexer": "ipython3",
   "version": "3.13.5"
  }
 },
 "nbformat": 4,
 "nbformat_minor": 4
}